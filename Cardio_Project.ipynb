{
 "cells": [
  {
   "cell_type": "markdown",
   "id": "254e73bc",
   "metadata": {},
   "source": [
    "# Cardio Good Fitness Project (reviewed by: Douglas Call)\n",
    "\n",
    "I.\tDevelop a Plan for exploring the Cardio Good Fitness project, to put a method in place to decide what are the most relevant elements of the Cardio Good Fitness Product provided Datasets. \n",
    "\n",
    "II.\tFind out from the Datasets what Fitness Products were receiving the most Usage (was using this as a method of equating which products were most successful). Since the objective of the Fitness Products was to provide fitness to the Customers, wanted to determine which Products were offering the most fitness benefit to the Customer (by evaluating Customer Fitness levels, and Miles traveled during the various workout, since these appeared to be the strong indicators of Fitness program success).\n",
    "\n",
    "III.\tThe last part of the puzzle was to determine which set of Customers were benefitting the most from the various Fitness Products being offered, taking into factors like Gender & Age range when applicable.\n",
    "\n",
    "NOTE: Noticed that there were no columns providing dates/timestamps as to when the customers signed up for the various Fitness Programs. This can present challenges for the Data Scientist to give time context applicable Recommendations about the various Fitness programs. There is no way to see if any of the existing Fitness programs are trending up/down in Terms of how much usage they're receiving in this year relative to previous years. Aslo apparently you're not interested in optimizing the mix of Fitness Programs to maximize your revenue, because there also isn't any pricing information. So keeping this in mind the recommendations made are based on the best guess for which programs truly are the best performing now."
   ]
  },
  {
   "cell_type": "code",
   "execution_count": 1,
   "id": "a29f1473",
   "metadata": {},
   "outputs": [],
   "source": [
    "# Loaded my standard set of Python libraries"
   ]
  },
  {
   "cell_type": "code",
   "execution_count": 2,
   "id": "5b9b37a7",
   "metadata": {},
   "outputs": [],
   "source": [
    "import io\n",
    "import os\n",
    "import pandas as pd\n",
    "import numpy as np\n",
    "import seaborn as sns\n",
    "import matplotlib.pyplot as plt\n",
    "from ipywidgets import interactive \n",
    "from datetime import datetime\n",
    "import pytz"
   ]
  },
  {
   "cell_type": "code",
   "execution_count": 3,
   "id": "9bd584ff",
   "metadata": {},
   "outputs": [
    {
     "data": {
      "text/plain": [
       "'3.9.7'"
      ]
     },
     "execution_count": 3,
     "metadata": {},
     "output_type": "execute_result"
    }
   ],
   "source": [
    "from platform import python_version\n",
    "python_version()"
   ]
  },
  {
   "cell_type": "code",
   "execution_count": 4,
   "id": "1fabfa95",
   "metadata": {},
   "outputs": [],
   "source": [
    "# Verify that the required Dataset is availble in CWD"
   ]
  },
  {
   "cell_type": "code",
   "execution_count": 5,
   "id": "e62eac08",
   "metadata": {},
   "outputs": [
    {
     "name": "stdout",
     "output_type": "stream",
     "text": [
      "Current Working Directory: C:\\Users\\Administrator\\Great_Learning \n",
      "\n",
      "CardioGoodFitness.csv\n"
     ]
    }
   ],
   "source": [
    "# my_dir = []\n",
    "\n",
    "cwd = os.getcwd()\n",
    "print('Current Working Directory:',cwd,'\\n')\n",
    "\n",
    "for x in os.listdir():\n",
    "    if x.startswith('Cardio') and x.endswith('.csv'):\n",
    "        print(x)\n",
    "\n",
    "#    if x.startswith('NS2') and x.endswith('.csv'):\n",
    "# Only Prints csv files present in the cwd      \n",
    "#         if x.endswith('.csv'):\n",
    "#             my_dir.append(x)"
   ]
  },
  {
   "cell_type": "markdown",
   "id": "09a7ab97",
   "metadata": {},
   "source": [
    "## Read in Cardio Dataset"
   ]
  },
  {
   "cell_type": "code",
   "execution_count": 6,
   "id": "eabbe07a",
   "metadata": {},
   "outputs": [],
   "source": [
    "cardio = pd.read_csv('CardioGoodFitness.csv')"
   ]
  },
  {
   "cell_type": "code",
   "execution_count": 7,
   "id": "78f6d11c",
   "metadata": {},
   "outputs": [],
   "source": [
    "## View cardio data frame basic info"
   ]
  },
  {
   "cell_type": "code",
   "execution_count": 8,
   "id": "96d4a22a",
   "metadata": {},
   "outputs": [
    {
     "name": "stdout",
     "output_type": "stream",
     "text": [
      "1) shape rows/columns\n",
      " (180, 9) \n",
      "\n"
     ]
    },
    {
     "data": {
      "text/html": [
       "<div>\n",
       "<style scoped>\n",
       "    .dataframe tbody tr th:only-of-type {\n",
       "        vertical-align: middle;\n",
       "    }\n",
       "\n",
       "    .dataframe tbody tr th {\n",
       "        vertical-align: top;\n",
       "    }\n",
       "\n",
       "    .dataframe thead th {\n",
       "        text-align: right;\n",
       "    }\n",
       "</style>\n",
       "<table border=\"1\" class=\"dataframe\">\n",
       "  <thead>\n",
       "    <tr style=\"text-align: right;\">\n",
       "      <th></th>\n",
       "      <th>Product</th>\n",
       "      <th>Age</th>\n",
       "      <th>Gender</th>\n",
       "      <th>Education</th>\n",
       "      <th>MaritalStatus</th>\n",
       "      <th>Usage</th>\n",
       "      <th>Fitness</th>\n",
       "      <th>Income</th>\n",
       "      <th>Miles</th>\n",
       "    </tr>\n",
       "  </thead>\n",
       "  <tbody>\n",
       "    <tr>\n",
       "      <th>count</th>\n",
       "      <td>180</td>\n",
       "      <td>180.000000</td>\n",
       "      <td>180</td>\n",
       "      <td>180.000000</td>\n",
       "      <td>180</td>\n",
       "      <td>180.000000</td>\n",
       "      <td>180.000000</td>\n",
       "      <td>180.000000</td>\n",
       "      <td>180.000000</td>\n",
       "    </tr>\n",
       "    <tr>\n",
       "      <th>unique</th>\n",
       "      <td>3</td>\n",
       "      <td>NaN</td>\n",
       "      <td>2</td>\n",
       "      <td>NaN</td>\n",
       "      <td>2</td>\n",
       "      <td>NaN</td>\n",
       "      <td>NaN</td>\n",
       "      <td>NaN</td>\n",
       "      <td>NaN</td>\n",
       "    </tr>\n",
       "    <tr>\n",
       "      <th>top</th>\n",
       "      <td>TM195</td>\n",
       "      <td>NaN</td>\n",
       "      <td>Male</td>\n",
       "      <td>NaN</td>\n",
       "      <td>Partnered</td>\n",
       "      <td>NaN</td>\n",
       "      <td>NaN</td>\n",
       "      <td>NaN</td>\n",
       "      <td>NaN</td>\n",
       "    </tr>\n",
       "    <tr>\n",
       "      <th>freq</th>\n",
       "      <td>80</td>\n",
       "      <td>NaN</td>\n",
       "      <td>104</td>\n",
       "      <td>NaN</td>\n",
       "      <td>107</td>\n",
       "      <td>NaN</td>\n",
       "      <td>NaN</td>\n",
       "      <td>NaN</td>\n",
       "      <td>NaN</td>\n",
       "    </tr>\n",
       "    <tr>\n",
       "      <th>mean</th>\n",
       "      <td>NaN</td>\n",
       "      <td>28.788889</td>\n",
       "      <td>NaN</td>\n",
       "      <td>15.572222</td>\n",
       "      <td>NaN</td>\n",
       "      <td>3.455556</td>\n",
       "      <td>3.311111</td>\n",
       "      <td>53719.577778</td>\n",
       "      <td>103.194444</td>\n",
       "    </tr>\n",
       "    <tr>\n",
       "      <th>std</th>\n",
       "      <td>NaN</td>\n",
       "      <td>6.943498</td>\n",
       "      <td>NaN</td>\n",
       "      <td>1.617055</td>\n",
       "      <td>NaN</td>\n",
       "      <td>1.084797</td>\n",
       "      <td>0.958869</td>\n",
       "      <td>16506.684226</td>\n",
       "      <td>51.863605</td>\n",
       "    </tr>\n",
       "    <tr>\n",
       "      <th>min</th>\n",
       "      <td>NaN</td>\n",
       "      <td>18.000000</td>\n",
       "      <td>NaN</td>\n",
       "      <td>12.000000</td>\n",
       "      <td>NaN</td>\n",
       "      <td>2.000000</td>\n",
       "      <td>1.000000</td>\n",
       "      <td>29562.000000</td>\n",
       "      <td>21.000000</td>\n",
       "    </tr>\n",
       "    <tr>\n",
       "      <th>25%</th>\n",
       "      <td>NaN</td>\n",
       "      <td>24.000000</td>\n",
       "      <td>NaN</td>\n",
       "      <td>14.000000</td>\n",
       "      <td>NaN</td>\n",
       "      <td>3.000000</td>\n",
       "      <td>3.000000</td>\n",
       "      <td>44058.750000</td>\n",
       "      <td>66.000000</td>\n",
       "    </tr>\n",
       "    <tr>\n",
       "      <th>50%</th>\n",
       "      <td>NaN</td>\n",
       "      <td>26.000000</td>\n",
       "      <td>NaN</td>\n",
       "      <td>16.000000</td>\n",
       "      <td>NaN</td>\n",
       "      <td>3.000000</td>\n",
       "      <td>3.000000</td>\n",
       "      <td>50596.500000</td>\n",
       "      <td>94.000000</td>\n",
       "    </tr>\n",
       "    <tr>\n",
       "      <th>75%</th>\n",
       "      <td>NaN</td>\n",
       "      <td>33.000000</td>\n",
       "      <td>NaN</td>\n",
       "      <td>16.000000</td>\n",
       "      <td>NaN</td>\n",
       "      <td>4.000000</td>\n",
       "      <td>4.000000</td>\n",
       "      <td>58668.000000</td>\n",
       "      <td>114.750000</td>\n",
       "    </tr>\n",
       "    <tr>\n",
       "      <th>max</th>\n",
       "      <td>NaN</td>\n",
       "      <td>50.000000</td>\n",
       "      <td>NaN</td>\n",
       "      <td>21.000000</td>\n",
       "      <td>NaN</td>\n",
       "      <td>7.000000</td>\n",
       "      <td>5.000000</td>\n",
       "      <td>104581.000000</td>\n",
       "      <td>360.000000</td>\n",
       "    </tr>\n",
       "  </tbody>\n",
       "</table>\n",
       "</div>"
      ],
      "text/plain": [
       "       Product         Age Gender   Education MaritalStatus       Usage  \\\n",
       "count      180  180.000000    180  180.000000           180  180.000000   \n",
       "unique       3         NaN      2         NaN             2         NaN   \n",
       "top      TM195         NaN   Male         NaN     Partnered         NaN   \n",
       "freq        80         NaN    104         NaN           107         NaN   \n",
       "mean       NaN   28.788889    NaN   15.572222           NaN    3.455556   \n",
       "std        NaN    6.943498    NaN    1.617055           NaN    1.084797   \n",
       "min        NaN   18.000000    NaN   12.000000           NaN    2.000000   \n",
       "25%        NaN   24.000000    NaN   14.000000           NaN    3.000000   \n",
       "50%        NaN   26.000000    NaN   16.000000           NaN    3.000000   \n",
       "75%        NaN   33.000000    NaN   16.000000           NaN    4.000000   \n",
       "max        NaN   50.000000    NaN   21.000000           NaN    7.000000   \n",
       "\n",
       "           Fitness         Income       Miles  \n",
       "count   180.000000     180.000000  180.000000  \n",
       "unique         NaN            NaN         NaN  \n",
       "top            NaN            NaN         NaN  \n",
       "freq           NaN            NaN         NaN  \n",
       "mean      3.311111   53719.577778  103.194444  \n",
       "std       0.958869   16506.684226   51.863605  \n",
       "min       1.000000   29562.000000   21.000000  \n",
       "25%       3.000000   44058.750000   66.000000  \n",
       "50%       3.000000   50596.500000   94.000000  \n",
       "75%       4.000000   58668.000000  114.750000  \n",
       "max       5.000000  104581.000000  360.000000  "
      ]
     },
     "execution_count": 8,
     "metadata": {},
     "output_type": "execute_result"
    }
   ],
   "source": [
    "# print('1) head\\n',cardio.head(),'\\n')\n",
    "print('1) shape rows/columns\\n',cardio.shape,'\\n')\n",
    "\n",
    "cardio.describe(include=\"all\")"
   ]
  },
  {
   "cell_type": "code",
   "execution_count": 9,
   "id": "a805cfca",
   "metadata": {},
   "outputs": [
    {
     "name": "stdout",
     "output_type": "stream",
     "text": [
      "<class 'pandas.core.frame.DataFrame'>\n",
      "RangeIndex: 180 entries, 0 to 179\n",
      "Data columns (total 9 columns):\n",
      " #   Column         Non-Null Count  Dtype \n",
      "---  ------         --------------  ----- \n",
      " 0   Product        180 non-null    object\n",
      " 1   Age            180 non-null    int64 \n",
      " 2   Gender         180 non-null    object\n",
      " 3   Education      180 non-null    int64 \n",
      " 4   MaritalStatus  180 non-null    object\n",
      " 5   Usage          180 non-null    int64 \n",
      " 6   Fitness        180 non-null    int64 \n",
      " 7   Income         180 non-null    int64 \n",
      " 8   Miles          180 non-null    int64 \n",
      "dtypes: int64(6), object(3)\n",
      "memory usage: 12.8+ KB\n"
     ]
    }
   ],
   "source": [
    "cardio.info()"
   ]
  },
  {
   "cell_type": "code",
   "execution_count": 59,
   "id": "e62d1694",
   "metadata": {},
   "outputs": [],
   "source": [
    "# no non-null vallues so no further processing required"
   ]
  },
  {
   "cell_type": "code",
   "execution_count": 11,
   "id": "85c59b07",
   "metadata": {},
   "outputs": [],
   "source": [
    "## get exact cardio column names and data types"
   ]
  },
  {
   "cell_type": "code",
   "execution_count": 12,
   "id": "28809259",
   "metadata": {},
   "outputs": [
    {
     "name": "stdout",
     "output_type": "stream",
     "text": [
      "<class 'pandas.core.frame.DataFrame'> \n",
      "\n",
      "Index(['Product', 'Age', 'Gender', 'Education', 'MaritalStatus', 'Usage',\n",
      "       'Fitness', 'Income', 'Miles'],\n",
      "      dtype='object') \n",
      "\n"
     ]
    },
    {
     "data": {
      "text/plain": [
       "Product          object\n",
       "Age               int64\n",
       "Gender           object\n",
       "Education         int64\n",
       "MaritalStatus    object\n",
       "Usage             int64\n",
       "Fitness           int64\n",
       "Income            int64\n",
       "Miles             int64\n",
       "dtype: object"
      ]
     },
     "execution_count": 12,
     "metadata": {},
     "output_type": "execute_result"
    }
   ],
   "source": [
    "print(type(cardio),'\\n')\n",
    "print(cardio.columns,'\\n')\n",
    "cardio.dtypes"
   ]
  },
  {
   "cell_type": "code",
   "execution_count": 13,
   "id": "a8e25e40",
   "metadata": {},
   "outputs": [
    {
     "data": {
      "text/html": [
       "<div>\n",
       "<style scoped>\n",
       "    .dataframe tbody tr th:only-of-type {\n",
       "        vertical-align: middle;\n",
       "    }\n",
       "\n",
       "    .dataframe tbody tr th {\n",
       "        vertical-align: top;\n",
       "    }\n",
       "\n",
       "    .dataframe thead th {\n",
       "        text-align: right;\n",
       "    }\n",
       "</style>\n",
       "<table border=\"1\" class=\"dataframe\">\n",
       "  <thead>\n",
       "    <tr style=\"text-align: right;\">\n",
       "      <th></th>\n",
       "      <th>Product</th>\n",
       "      <th>Age</th>\n",
       "      <th>Gender</th>\n",
       "      <th>Education</th>\n",
       "      <th>MaritalStatus</th>\n",
       "      <th>Usage</th>\n",
       "      <th>Fitness</th>\n",
       "      <th>Income</th>\n",
       "      <th>Miles</th>\n",
       "    </tr>\n",
       "  </thead>\n",
       "  <tbody>\n",
       "    <tr>\n",
       "      <th>0</th>\n",
       "      <td>TM195</td>\n",
       "      <td>18</td>\n",
       "      <td>Male</td>\n",
       "      <td>14</td>\n",
       "      <td>Single</td>\n",
       "      <td>3</td>\n",
       "      <td>4</td>\n",
       "      <td>29562</td>\n",
       "      <td>112</td>\n",
       "    </tr>\n",
       "    <tr>\n",
       "      <th>1</th>\n",
       "      <td>TM195</td>\n",
       "      <td>19</td>\n",
       "      <td>Male</td>\n",
       "      <td>15</td>\n",
       "      <td>Single</td>\n",
       "      <td>2</td>\n",
       "      <td>3</td>\n",
       "      <td>31836</td>\n",
       "      <td>75</td>\n",
       "    </tr>\n",
       "    <tr>\n",
       "      <th>2</th>\n",
       "      <td>TM195</td>\n",
       "      <td>19</td>\n",
       "      <td>Female</td>\n",
       "      <td>14</td>\n",
       "      <td>Partnered</td>\n",
       "      <td>4</td>\n",
       "      <td>3</td>\n",
       "      <td>30699</td>\n",
       "      <td>66</td>\n",
       "    </tr>\n",
       "    <tr>\n",
       "      <th>3</th>\n",
       "      <td>TM195</td>\n",
       "      <td>19</td>\n",
       "      <td>Male</td>\n",
       "      <td>12</td>\n",
       "      <td>Single</td>\n",
       "      <td>3</td>\n",
       "      <td>3</td>\n",
       "      <td>32973</td>\n",
       "      <td>85</td>\n",
       "    </tr>\n",
       "    <tr>\n",
       "      <th>4</th>\n",
       "      <td>TM195</td>\n",
       "      <td>20</td>\n",
       "      <td>Male</td>\n",
       "      <td>13</td>\n",
       "      <td>Partnered</td>\n",
       "      <td>4</td>\n",
       "      <td>2</td>\n",
       "      <td>35247</td>\n",
       "      <td>47</td>\n",
       "    </tr>\n",
       "    <tr>\n",
       "      <th>...</th>\n",
       "      <td>...</td>\n",
       "      <td>...</td>\n",
       "      <td>...</td>\n",
       "      <td>...</td>\n",
       "      <td>...</td>\n",
       "      <td>...</td>\n",
       "      <td>...</td>\n",
       "      <td>...</td>\n",
       "      <td>...</td>\n",
       "    </tr>\n",
       "    <tr>\n",
       "      <th>175</th>\n",
       "      <td>TM798</td>\n",
       "      <td>40</td>\n",
       "      <td>Male</td>\n",
       "      <td>21</td>\n",
       "      <td>Single</td>\n",
       "      <td>6</td>\n",
       "      <td>5</td>\n",
       "      <td>83416</td>\n",
       "      <td>200</td>\n",
       "    </tr>\n",
       "    <tr>\n",
       "      <th>176</th>\n",
       "      <td>TM798</td>\n",
       "      <td>42</td>\n",
       "      <td>Male</td>\n",
       "      <td>18</td>\n",
       "      <td>Single</td>\n",
       "      <td>5</td>\n",
       "      <td>4</td>\n",
       "      <td>89641</td>\n",
       "      <td>200</td>\n",
       "    </tr>\n",
       "    <tr>\n",
       "      <th>177</th>\n",
       "      <td>TM798</td>\n",
       "      <td>45</td>\n",
       "      <td>Male</td>\n",
       "      <td>16</td>\n",
       "      <td>Single</td>\n",
       "      <td>5</td>\n",
       "      <td>5</td>\n",
       "      <td>90886</td>\n",
       "      <td>160</td>\n",
       "    </tr>\n",
       "    <tr>\n",
       "      <th>178</th>\n",
       "      <td>TM798</td>\n",
       "      <td>47</td>\n",
       "      <td>Male</td>\n",
       "      <td>18</td>\n",
       "      <td>Partnered</td>\n",
       "      <td>4</td>\n",
       "      <td>5</td>\n",
       "      <td>104581</td>\n",
       "      <td>120</td>\n",
       "    </tr>\n",
       "    <tr>\n",
       "      <th>179</th>\n",
       "      <td>TM798</td>\n",
       "      <td>48</td>\n",
       "      <td>Male</td>\n",
       "      <td>18</td>\n",
       "      <td>Partnered</td>\n",
       "      <td>4</td>\n",
       "      <td>5</td>\n",
       "      <td>95508</td>\n",
       "      <td>180</td>\n",
       "    </tr>\n",
       "  </tbody>\n",
       "</table>\n",
       "<p>180 rows × 9 columns</p>\n",
       "</div>"
      ],
      "text/plain": [
       "    Product  Age  Gender  Education MaritalStatus  Usage  Fitness  Income  \\\n",
       "0     TM195   18    Male         14        Single      3        4   29562   \n",
       "1     TM195   19    Male         15        Single      2        3   31836   \n",
       "2     TM195   19  Female         14     Partnered      4        3   30699   \n",
       "3     TM195   19    Male         12        Single      3        3   32973   \n",
       "4     TM195   20    Male         13     Partnered      4        2   35247   \n",
       "..      ...  ...     ...        ...           ...    ...      ...     ...   \n",
       "175   TM798   40    Male         21        Single      6        5   83416   \n",
       "176   TM798   42    Male         18        Single      5        4   89641   \n",
       "177   TM798   45    Male         16        Single      5        5   90886   \n",
       "178   TM798   47    Male         18     Partnered      4        5  104581   \n",
       "179   TM798   48    Male         18     Partnered      4        5   95508   \n",
       "\n",
       "     Miles  \n",
       "0      112  \n",
       "1       75  \n",
       "2       66  \n",
       "3       85  \n",
       "4       47  \n",
       "..     ...  \n",
       "175    200  \n",
       "176    200  \n",
       "177    160  \n",
       "178    120  \n",
       "179    180  \n",
       "\n",
       "[180 rows x 9 columns]"
      ]
     },
     "execution_count": 13,
     "metadata": {},
     "output_type": "execute_result"
    }
   ],
   "source": [
    "cardio"
   ]
  },
  {
   "cell_type": "code",
   "execution_count": 14,
   "id": "d2161b50",
   "metadata": {},
   "outputs": [],
   "source": [
    "## get overall view of selected numerical elements present in cardio dataset\n",
    "## wanted to view the various numberical relationships specifically in terms of Fitness Products"
   ]
  },
  {
   "cell_type": "code",
   "execution_count": 15,
   "id": "11f87c2e",
   "metadata": {
    "scrolled": true
   },
   "outputs": [
    {
     "data": {
      "image/png": "[encoded data removed]",
      "text/plain": [
       "<Figure size 789.75x720 with 20 Axes>"
      ]
     },
     "metadata": {
      "needs_background": "light"
     },
     "output_type": "display_data"
    }
   ],
   "source": [
    "# kind{‘scatter’, ‘kde’, ‘hist’, ‘reg’}\n",
    "\n",
    "sns.pairplot(data=cardio, vars=['Miles', 'Usage','Fitness','Income'], hue='Product',   palette='Dark2_r');"
   ]
  },
  {
   "cell_type": "code",
   "execution_count": 16,
   "id": "373d2fbf",
   "metadata": {},
   "outputs": [],
   "source": [
    "## view what relationship Fitness Product usage and miles were like in realtion to gender"
   ]
  },
  {
   "cell_type": "code",
   "execution_count": 17,
   "id": "52f7b628",
   "metadata": {},
   "outputs": [
    {
     "data": {
      "image/png": "[encoded data removed]",
      "text/plain": [
       "<Figure size 1152.12x360 with 3 Axes>"
      ]
     },
     "metadata": {
      "needs_background": "light"
     },
     "output_type": "display_data"
    }
   ],
   "source": [
    "sns.relplot(x='Usage', y='Miles',\n",
    "            data=cardio[cardio.Usage > 1],\n",
    "            hue='Gender',\n",
    "            s=100,\n",
    "            palette=['black','red'],\n",
    "            marker='^',\n",
    "            col='Product');"
   ]
  },
  {
   "cell_type": "code",
   "execution_count": 18,
   "id": "e3530288",
   "metadata": {
    "scrolled": true
   },
   "outputs": [
    {
     "data": {
      "text/html": [
       "<div>\n",
       "<style scoped>\n",
       "    .dataframe tbody tr th:only-of-type {\n",
       "        vertical-align: middle;\n",
       "    }\n",
       "\n",
       "    .dataframe tbody tr th {\n",
       "        vertical-align: top;\n",
       "    }\n",
       "\n",
       "    .dataframe thead th {\n",
       "        text-align: right;\n",
       "    }\n",
       "</style>\n",
       "<table border=\"1\" class=\"dataframe\">\n",
       "  <thead>\n",
       "    <tr style=\"text-align: right;\">\n",
       "      <th></th>\n",
       "      <th>Data Types</th>\n",
       "    </tr>\n",
       "    <tr>\n",
       "      <th>Features</th>\n",
       "      <th></th>\n",
       "    </tr>\n",
       "  </thead>\n",
       "  <tbody>\n",
       "    <tr>\n",
       "      <th>Age</th>\n",
       "      <td>int64</td>\n",
       "    </tr>\n",
       "    <tr>\n",
       "      <th>Education</th>\n",
       "      <td>int64</td>\n",
       "    </tr>\n",
       "    <tr>\n",
       "      <th>Fitness</th>\n",
       "      <td>int64</td>\n",
       "    </tr>\n",
       "    <tr>\n",
       "      <th>Income</th>\n",
       "      <td>int64</td>\n",
       "    </tr>\n",
       "    <tr>\n",
       "      <th>Miles</th>\n",
       "      <td>int64</td>\n",
       "    </tr>\n",
       "    <tr>\n",
       "      <th>Usage</th>\n",
       "      <td>int64</td>\n",
       "    </tr>\n",
       "    <tr>\n",
       "      <th>Gender</th>\n",
       "      <td>object</td>\n",
       "    </tr>\n",
       "    <tr>\n",
       "      <th>MaritalStatus</th>\n",
       "      <td>object</td>\n",
       "    </tr>\n",
       "    <tr>\n",
       "      <th>Product</th>\n",
       "      <td>object</td>\n",
       "    </tr>\n",
       "  </tbody>\n",
       "</table>\n",
       "</div>"
      ],
      "text/plain": [
       "              Data Types\n",
       "Features                \n",
       "Age                int64\n",
       "Education          int64\n",
       "Fitness            int64\n",
       "Income             int64\n",
       "Miles              int64\n",
       "Usage              int64\n",
       "Gender            object\n",
       "MaritalStatus     object\n",
       "Product           object"
      ]
     },
     "execution_count": 18,
     "metadata": {},
     "output_type": "execute_result"
    }
   ],
   "source": [
    "# view column data types sorted by the data types for quick reference\n",
    "\n",
    "dfc = pd.DataFrame(cardio.dtypes, columns = ['Data Types'])\n",
    "dfc.index.names = ['Features']\n",
    "dfc.sort_values(['Data Types','Features'], inplace = True)\n",
    "dfc\n",
    "# cardio.dtypes.sort_index()"
   ]
  },
  {
   "cell_type": "code",
   "execution_count": 19,
   "id": "b55e9120",
   "metadata": {},
   "outputs": [],
   "source": [
    "## determine if there is any real significance with reference to Marital Status and Age to Product Preference"
   ]
  },
  {
   "cell_type": "code",
   "execution_count": 20,
   "id": "043b8126",
   "metadata": {},
   "outputs": [
    {
     "data": {
      "image/png": "[encoded data removed]",
      "text/plain": [
       "<Figure size 432x288 with 3 Axes>"
      ]
     },
     "metadata": {
      "needs_background": "light"
     },
     "output_type": "display_data"
    }
   ],
   "source": [
    "g = sns.FacetGrid(cardio, col='Product', height=4, aspect=.5)\n",
    "g.map(sns.barplot, 'MaritalStatus', 'Age', order=['Partnered','Single']);"
   ]
  },
  {
   "cell_type": "code",
   "execution_count": 21,
   "id": "bee7881b",
   "metadata": {},
   "outputs": [],
   "source": [
    "## usage of the various fitness products based on gender"
   ]
  },
  {
   "cell_type": "code",
   "execution_count": 22,
   "id": "a0760551",
   "metadata": {
    "scrolled": true
   },
   "outputs": [
    {
     "data": {
      "image/png": "[encoded data removed]",
      "text/plain": [
       "<Figure size 432x288 with 3 Axes>"
      ]
     },
     "metadata": {
      "needs_background": "light"
     },
     "output_type": "display_data"
    }
   ],
   "source": [
    "g = sns.FacetGrid(cardio, col='Product', height=4, aspect=.5)\n",
    "g.map(sns.barplot, 'Gender', 'Usage', order=['Female','Male']);"
   ]
  },
  {
   "cell_type": "code",
   "execution_count": 23,
   "id": "3f33160a",
   "metadata": {},
   "outputs": [
    {
     "data": {
      "text/plain": [
       "Index(['Product', 'Age', 'Gender', 'Education', 'MaritalStatus', 'Usage',\n",
       "       'Fitness', 'Income', 'Miles'],\n",
       "      dtype='object', name='Features')"
      ]
     },
     "execution_count": 23,
     "metadata": {},
     "output_type": "execute_result"
    }
   ],
   "source": [
    "cardio.columns"
   ]
  },
  {
   "cell_type": "code",
   "execution_count": 24,
   "id": "1372772d",
   "metadata": {},
   "outputs": [],
   "source": [
    "# determine if there is any real significance between Income and Usage or Income and Fitness"
   ]
  },
  {
   "cell_type": "code",
   "execution_count": 25,
   "id": "ce282338",
   "metadata": {},
   "outputs": [
    {
     "name": "stdout",
     "output_type": "stream",
     "text": [
      "104581\n",
      "29562\n",
      "75019\n",
      "Income Increment Level:  10717.0\n"
     ]
    }
   ],
   "source": [
    "print(cardio['Income'].max())\n",
    "print(cardio['Income'].min())\n",
    "print(cardio['Income'].max()-cardio['Income'].min())\n",
    "print('Income Increment Level: ',75019/7)"
   ]
  },
  {
   "cell_type": "code",
   "execution_count": 26,
   "id": "10916376",
   "metadata": {},
   "outputs": [],
   "source": [
    "# using pd.cut() function to create bins\n",
    "cardio['Income_bins'] = pd.cut(cardio['Income'],bins=[29562,40279,50996,61713,72430,83147,93864,104581],labels=['29.5-40.3','40.3-51','51-61.7','61.7-72.4','72.4-83.1','83.1-93.9','93.9-104+'], right=False)"
   ]
  },
  {
   "cell_type": "code",
   "execution_count": 27,
   "id": "a19f3b3d",
   "metadata": {},
   "outputs": [
    {
     "data": {
      "image/png": "[encoded data removed]",
      "text/plain": [
       "<Figure size 1080x504 with 1 Axes>"
      ]
     },
     "metadata": {
      "needs_background": "light"
     },
     "output_type": "display_data"
    }
   ],
   "source": [
    "plt.figure(figsize=(15,7))\n",
    "sns.boxplot(data=cardio,x='Income_bins',y='Usage',showfliers=True) # showfliers parameter controls the representation of outliers in the boxplot\n",
    "plt.show()"
   ]
  },
  {
   "cell_type": "code",
   "execution_count": 28,
   "id": "ed2cc3c0",
   "metadata": {},
   "outputs": [],
   "source": [
    "# There does appear to be a stronger level of usage among people with incomes above $72,400."
   ]
  },
  {
   "cell_type": "code",
   "execution_count": 29,
   "id": "10bf60a4",
   "metadata": {
    "scrolled": true
   },
   "outputs": [
    {
     "data": {
      "image/png": "[encoded data removed]",
      "text/plain": [
       "<Figure size 1080x504 with 1 Axes>"
      ]
     },
     "metadata": {
      "needs_background": "light"
     },
     "output_type": "display_data"
    }
   ],
   "source": [
    "plt.figure(figsize=(15,7))\n",
    "sns.boxplot(data=cardio,x='Income_bins',y='Fitness',showfliers=True) # showfliers parameter controls the representation of outliers in the boxplot\n",
    "plt.show()"
   ]
  },
  {
   "cell_type": "code",
   "execution_count": 30,
   "id": "1faf60dd",
   "metadata": {},
   "outputs": [],
   "source": [
    "# There doesn't appear to be a strong association between income levels and Fitness as indicated above."
   ]
  },
  {
   "cell_type": "code",
   "execution_count": 31,
   "id": "08395718",
   "metadata": {},
   "outputs": [],
   "source": [
    "# Now to look at Income Levels vs Fitness and different Product Offerings"
   ]
  },
  {
   "cell_type": "code",
   "execution_count": 32,
   "id": "dfc067b4",
   "metadata": {},
   "outputs": [
    {
     "name": "stderr",
     "output_type": "stream",
     "text": [
      "C:\\Users\\Administrator\\anaconda3\\lib\\site-packages\\seaborn\\axisgrid.py:670: UserWarning: Using the barplot function without specifying `order` is likely to produce an incorrect plot.\n",
      "  warnings.warn(warning)\n"
     ]
    },
    {
     "data": {
      "image/png": "[encoded data removed]",
      "text/plain": [
       "<Figure size 1123.2x288 with 3 Axes>"
      ]
     },
     "metadata": {
      "needs_background": "light"
     },
     "output_type": "display_data"
    }
   ],
   "source": [
    "g = sns.FacetGrid(cardio, col='Product', height=4, aspect=1.3)\n",
    "g.map(sns.barplot, 'Income_bins', 'Usage'); #, order=['Female','Male']);"
   ]
  },
  {
   "cell_type": "code",
   "execution_count": 33,
   "id": "c91a0c83",
   "metadata": {},
   "outputs": [
    {
     "name": "stderr",
     "output_type": "stream",
     "text": [
      "C:\\Users\\Administrator\\anaconda3\\lib\\site-packages\\seaborn\\axisgrid.py:670: UserWarning: Using the barplot function without specifying `order` is likely to produce an incorrect plot.\n",
      "  warnings.warn(warning)\n"
     ]
    },
    {
     "data": {
      "image/png": "[encoded data removed]",
      "text/plain": [
       "<Figure size 1123.2x288 with 3 Axes>"
      ]
     },
     "metadata": {
      "needs_background": "light"
     },
     "output_type": "display_data"
    }
   ],
   "source": [
    "g = sns.FacetGrid(cardio, col='Product', height=4, aspect=1.3)\n",
    "g.map(sns.barplot, 'Income_bins', 'Fitness'); #, order=['Female','Male']);"
   ]
  },
  {
   "cell_type": "code",
   "execution_count": 34,
   "id": "9fda5cfa",
   "metadata": {},
   "outputs": [],
   "source": [
    "# there definitely is a strong association with Fitness Product TM798 for people with higher income levels"
   ]
  },
  {
   "cell_type": "code",
   "execution_count": 35,
   "id": "40b4dcd5",
   "metadata": {},
   "outputs": [],
   "source": [
    "# wanted to view the correlation of the various columns in an unrestricted heatmap"
   ]
  },
  {
   "cell_type": "code",
   "execution_count": 36,
   "id": "8b93f06d",
   "metadata": {},
   "outputs": [
    {
     "data": {
      "image/png": "[encoded data removed]",
      "text/plain": [
       "<Figure size 1080x360 with 2 Axes>"
      ]
     },
     "metadata": {
      "needs_background": "light"
     },
     "output_type": "display_data"
    }
   ],
   "source": [
    "plt.figure(figsize=(15, 5))\n",
    "sns.heatmap(cardio.corr(), vmin=0, vmax=1, annot=True, cmap='Spectral');"
   ]
  },
  {
   "cell_type": "code",
   "execution_count": 37,
   "id": "c4361ce4",
   "metadata": {},
   "outputs": [],
   "source": [
    "## what variables had the highest correlation when considering cardio.corr() for Usage and Usage > 0.6"
   ]
  },
  {
   "cell_type": "code",
   "execution_count": 38,
   "id": "9cd3d8f0",
   "metadata": {},
   "outputs": [
    {
     "data": {
      "text/html": [
       "<div>\n",
       "<style scoped>\n",
       "    .dataframe tbody tr th:only-of-type {\n",
       "        vertical-align: middle;\n",
       "    }\n",
       "\n",
       "    .dataframe tbody tr th {\n",
       "        vertical-align: top;\n",
       "    }\n",
       "\n",
       "    .dataframe thead th {\n",
       "        text-align: right;\n",
       "    }\n",
       "</style>\n",
       "<table border=\"1\" class=\"dataframe\">\n",
       "  <thead>\n",
       "    <tr style=\"text-align: right;\">\n",
       "      <th>Features</th>\n",
       "      <th>Age</th>\n",
       "      <th>Education</th>\n",
       "      <th>Usage</th>\n",
       "      <th>Fitness</th>\n",
       "      <th>Income</th>\n",
       "      <th>Miles</th>\n",
       "    </tr>\n",
       "    <tr>\n",
       "      <th>Features</th>\n",
       "      <th></th>\n",
       "      <th></th>\n",
       "      <th></th>\n",
       "      <th></th>\n",
       "      <th></th>\n",
       "      <th></th>\n",
       "    </tr>\n",
       "  </thead>\n",
       "  <tbody>\n",
       "    <tr>\n",
       "      <th>Usage</th>\n",
       "      <td>0.015064</td>\n",
       "      <td>0.395155</td>\n",
       "      <td>1.000000</td>\n",
       "      <td>0.668606</td>\n",
       "      <td>0.519537</td>\n",
       "      <td>0.759130</td>\n",
       "    </tr>\n",
       "    <tr>\n",
       "      <th>Fitness</th>\n",
       "      <td>0.061105</td>\n",
       "      <td>0.410581</td>\n",
       "      <td>0.668606</td>\n",
       "      <td>1.000000</td>\n",
       "      <td>0.535005</td>\n",
       "      <td>0.785702</td>\n",
       "    </tr>\n",
       "    <tr>\n",
       "      <th>Miles</th>\n",
       "      <td>0.036618</td>\n",
       "      <td>0.307284</td>\n",
       "      <td>0.759130</td>\n",
       "      <td>0.785702</td>\n",
       "      <td>0.543473</td>\n",
       "      <td>1.000000</td>\n",
       "    </tr>\n",
       "  </tbody>\n",
       "</table>\n",
       "</div>"
      ],
      "text/plain": [
       "Features       Age  Education     Usage   Fitness    Income     Miles\n",
       "Features                                                             \n",
       "Usage     0.015064   0.395155  1.000000  0.668606  0.519537  0.759130\n",
       "Fitness   0.061105   0.410581  0.668606  1.000000  0.535005  0.785702\n",
       "Miles     0.036618   0.307284  0.759130  0.785702  0.543473  1.000000"
      ]
     },
     "execution_count": 38,
     "metadata": {},
     "output_type": "execute_result"
    }
   ],
   "source": [
    "cardio.corr()[abs(cardio.corr()['Usage'])>0.6]"
   ]
  },
  {
   "cell_type": "code",
   "execution_count": 39,
   "id": "54796af9",
   "metadata": {},
   "outputs": [],
   "source": [
    "## this confirmed that Usage, Fitness and Miles were the major players for evaluation"
   ]
  },
  {
   "cell_type": "code",
   "execution_count": 40,
   "id": "866cb076",
   "metadata": {},
   "outputs": [],
   "source": [
    "## wanted to graph a quick heatmap plot of this relationship"
   ]
  },
  {
   "cell_type": "code",
   "execution_count": 60,
   "id": "30e6e3b4",
   "metadata": {},
   "outputs": [
    {
     "data": {
      "image/png": "[encoded data removed]",
      "text/plain": [
       "<Figure size 1080x360 with 2 Axes>"
      ]
     },
     "metadata": {
      "needs_background": "light"
     },
     "output_type": "display_data"
    }
   ],
   "source": [
    "plt.figure(figsize=(15, 5))\n",
    "sns.heatmap(cardio.corr()[abs(cardio.corr()['Usage'])>0.6], vmin=0, vmax=1, annot=True, cmap='Spectral');"
   ]
  },
  {
   "cell_type": "code",
   "execution_count": 42,
   "id": "ca06ac6c",
   "metadata": {},
   "outputs": [],
   "source": [
    "## quick look at most popular fitness products based on their usage"
   ]
  },
  {
   "cell_type": "code",
   "execution_count": 43,
   "id": "740e56bb",
   "metadata": {},
   "outputs": [
    {
     "data": {
      "text/html": [
       "<div>\n",
       "<style scoped>\n",
       "    .dataframe tbody tr th:only-of-type {\n",
       "        vertical-align: middle;\n",
       "    }\n",
       "\n",
       "    .dataframe tbody tr th {\n",
       "        vertical-align: top;\n",
       "    }\n",
       "\n",
       "    .dataframe thead th {\n",
       "        text-align: right;\n",
       "    }\n",
       "</style>\n",
       "<table border=\"1\" class=\"dataframe\">\n",
       "  <thead>\n",
       "    <tr style=\"text-align: right;\">\n",
       "      <th>Features</th>\n",
       "      <th>Usage</th>\n",
       "    </tr>\n",
       "    <tr>\n",
       "      <th>Product</th>\n",
       "      <th></th>\n",
       "    </tr>\n",
       "  </thead>\n",
       "  <tbody>\n",
       "    <tr>\n",
       "      <th>TM195</th>\n",
       "      <td>247</td>\n",
       "    </tr>\n",
       "    <tr>\n",
       "      <th>TM798</th>\n",
       "      <td>191</td>\n",
       "    </tr>\n",
       "    <tr>\n",
       "      <th>TM498</th>\n",
       "      <td>184</td>\n",
       "    </tr>\n",
       "  </tbody>\n",
       "</table>\n",
       "</div>"
      ],
      "text/plain": [
       "Features  Usage\n",
       "Product        \n",
       "TM195       247\n",
       "TM798       191\n",
       "TM498       184"
      ]
     },
     "execution_count": 43,
     "metadata": {},
     "output_type": "execute_result"
    }
   ],
   "source": [
    "top_usage = cardio.groupby('Product').sum()[['Usage']].sort_values('Usage', ascending=False)\n",
    "top_usage"
   ]
  },
  {
   "cell_type": "code",
   "execution_count": 44,
   "id": "95a28550",
   "metadata": {},
   "outputs": [],
   "source": [
    "## quick look at most popular fitness products based on their miles"
   ]
  },
  {
   "cell_type": "code",
   "execution_count": 45,
   "id": "9c25bcc5",
   "metadata": {},
   "outputs": [
    {
     "data": {
      "text/html": [
       "<div>\n",
       "<style scoped>\n",
       "    .dataframe tbody tr th:only-of-type {\n",
       "        vertical-align: middle;\n",
       "    }\n",
       "\n",
       "    .dataframe tbody tr th {\n",
       "        vertical-align: top;\n",
       "    }\n",
       "\n",
       "    .dataframe thead th {\n",
       "        text-align: right;\n",
       "    }\n",
       "</style>\n",
       "<table border=\"1\" class=\"dataframe\">\n",
       "  <thead>\n",
       "    <tr style=\"text-align: right;\">\n",
       "      <th>Features</th>\n",
       "      <th>Miles</th>\n",
       "    </tr>\n",
       "    <tr>\n",
       "      <th>Product</th>\n",
       "      <th></th>\n",
       "    </tr>\n",
       "  </thead>\n",
       "  <tbody>\n",
       "    <tr>\n",
       "      <th>TM798</th>\n",
       "      <td>6676</td>\n",
       "    </tr>\n",
       "    <tr>\n",
       "      <th>TM195</th>\n",
       "      <td>6623</td>\n",
       "    </tr>\n",
       "    <tr>\n",
       "      <th>TM498</th>\n",
       "      <td>5276</td>\n",
       "    </tr>\n",
       "  </tbody>\n",
       "</table>\n",
       "</div>"
      ],
      "text/plain": [
       "Features  Miles\n",
       "Product        \n",
       "TM798      6676\n",
       "TM195      6623\n",
       "TM498      5276"
      ]
     },
     "execution_count": 45,
     "metadata": {},
     "output_type": "execute_result"
    }
   ],
   "source": [
    "top_usage = cardio.groupby('Product').sum()[['Miles']].sort_values('Miles', ascending=False)\n",
    "top_usage"
   ]
  },
  {
   "cell_type": "code",
   "execution_count": 46,
   "id": "8f5bbd24",
   "metadata": {},
   "outputs": [
    {
     "data": {
      "text/html": [
       "<div>\n",
       "<style scoped>\n",
       "    .dataframe tbody tr th:only-of-type {\n",
       "        vertical-align: middle;\n",
       "    }\n",
       "\n",
       "    .dataframe tbody tr th {\n",
       "        vertical-align: top;\n",
       "    }\n",
       "\n",
       "    .dataframe thead th {\n",
       "        text-align: right;\n",
       "    }\n",
       "</style>\n",
       "<table border=\"1\" class=\"dataframe\">\n",
       "  <thead>\n",
       "    <tr style=\"text-align: right;\">\n",
       "      <th>Features</th>\n",
       "      <th>Fitness</th>\n",
       "    </tr>\n",
       "    <tr>\n",
       "      <th>Product</th>\n",
       "      <th></th>\n",
       "    </tr>\n",
       "  </thead>\n",
       "  <tbody>\n",
       "    <tr>\n",
       "      <th>TM195</th>\n",
       "      <td>237</td>\n",
       "    </tr>\n",
       "    <tr>\n",
       "      <th>TM798</th>\n",
       "      <td>185</td>\n",
       "    </tr>\n",
       "    <tr>\n",
       "      <th>TM498</th>\n",
       "      <td>174</td>\n",
       "    </tr>\n",
       "  </tbody>\n",
       "</table>\n",
       "</div>"
      ],
      "text/plain": [
       "Features  Fitness\n",
       "Product          \n",
       "TM195         237\n",
       "TM798         185\n",
       "TM498         174"
      ]
     },
     "execution_count": 46,
     "metadata": {},
     "output_type": "execute_result"
    }
   ],
   "source": [
    "top_usage = cardio.groupby('Product').sum()[['Fitness']].sort_values('Fitness', ascending=False)\n",
    "top_usage"
   ]
  },
  {
   "cell_type": "code",
   "execution_count": 47,
   "id": "47d9e1c6",
   "metadata": {},
   "outputs": [
    {
     "data": {
      "text/html": [
       "<div>\n",
       "<style scoped>\n",
       "    .dataframe tbody tr th:only-of-type {\n",
       "        vertical-align: middle;\n",
       "    }\n",
       "\n",
       "    .dataframe tbody tr th {\n",
       "        vertical-align: top;\n",
       "    }\n",
       "\n",
       "    .dataframe thead tr th {\n",
       "        text-align: left;\n",
       "    }\n",
       "\n",
       "    .dataframe thead tr:last-of-type th {\n",
       "        text-align: right;\n",
       "    }\n",
       "</style>\n",
       "<table border=\"1\" class=\"dataframe\">\n",
       "  <thead>\n",
       "    <tr>\n",
       "      <th>Features</th>\n",
       "      <th colspan=\"2\" halign=\"left\">Usage</th>\n",
       "      <th colspan=\"2\" halign=\"left\">Fitness</th>\n",
       "      <th colspan=\"2\" halign=\"left\">Miles</th>\n",
       "    </tr>\n",
       "    <tr>\n",
       "      <th>Gender</th>\n",
       "      <th>Female</th>\n",
       "      <th>Male</th>\n",
       "      <th>Female</th>\n",
       "      <th>Male</th>\n",
       "      <th>Female</th>\n",
       "      <th>Male</th>\n",
       "    </tr>\n",
       "    <tr>\n",
       "      <th>Product</th>\n",
       "      <th></th>\n",
       "      <th></th>\n",
       "      <th></th>\n",
       "      <th></th>\n",
       "      <th></th>\n",
       "      <th></th>\n",
       "    </tr>\n",
       "  </thead>\n",
       "  <tbody>\n",
       "    <tr>\n",
       "      <th>TM195</th>\n",
       "      <td>116</td>\n",
       "      <td>131</td>\n",
       "      <td>115</td>\n",
       "      <td>122</td>\n",
       "      <td>3048</td>\n",
       "      <td>3575</td>\n",
       "    </tr>\n",
       "    <tr>\n",
       "      <th>TM498</th>\n",
       "      <td>91</td>\n",
       "      <td>93</td>\n",
       "      <td>83</td>\n",
       "      <td>91</td>\n",
       "      <td>2533</td>\n",
       "      <td>2743</td>\n",
       "    </tr>\n",
       "    <tr>\n",
       "      <th>TM798</th>\n",
       "      <td>35</td>\n",
       "      <td>156</td>\n",
       "      <td>32</td>\n",
       "      <td>153</td>\n",
       "      <td>1260</td>\n",
       "      <td>5416</td>\n",
       "    </tr>\n",
       "  </tbody>\n",
       "</table>\n",
       "</div>"
      ],
      "text/plain": [
       "Features  Usage      Fitness       Miles      \n",
       "Gender   Female Male  Female Male Female  Male\n",
       "Product                                       \n",
       "TM195       116  131     115  122   3048  3575\n",
       "TM498        91   93      83   91   2533  2743\n",
       "TM798        35  156      32  153   1260  5416"
      ]
     },
     "execution_count": 47,
     "metadata": {},
     "output_type": "execute_result"
    }
   ],
   "source": [
    "cardio.groupby(['Product', 'Gender']).agg({'Usage':'sum', 'Fitness':'sum', 'Miles':'sum'}).unstack()"
   ]
  },
  {
   "cell_type": "code",
   "execution_count": 48,
   "id": "c66a1d3f",
   "metadata": {},
   "outputs": [],
   "source": [
    "## quick check to make sure that males were most interested in using product TM798\n",
    "## the other products were used pretty much similarly by both genders"
   ]
  },
  {
   "cell_type": "code",
   "execution_count": 49,
   "id": "e2883b2e",
   "metadata": {},
   "outputs": [
    {
     "data": {
      "image/png": "[encoded data removed]",
      "text/plain": [
       "<Figure size 432x288 with 1 Axes>"
      ]
     },
     "metadata": {
      "needs_background": "light"
     },
     "output_type": "display_data"
    }
   ],
   "source": [
    "sns.scatterplot(data=cardio, y='Usage', x='Product',\n",
    "                hue='Gender',\n",
    "                # style='Product', s=60, alpha=1.0,\n",
    "                edgecolor='black');\n",
    "# plt.legend(loc='center');"
   ]
  },
  {
   "cell_type": "code",
   "execution_count": 50,
   "id": "6d7a7f64",
   "metadata": {},
   "outputs": [
    {
     "data": {
      "text/html": [
       "<div>\n",
       "<style scoped>\n",
       "    .dataframe tbody tr th:only-of-type {\n",
       "        vertical-align: middle;\n",
       "    }\n",
       "\n",
       "    .dataframe tbody tr th {\n",
       "        vertical-align: top;\n",
       "    }\n",
       "\n",
       "    .dataframe thead th {\n",
       "        text-align: right;\n",
       "    }\n",
       "</style>\n",
       "<table border=\"1\" class=\"dataframe\">\n",
       "  <thead>\n",
       "    <tr style=\"text-align: right;\">\n",
       "      <th>Features</th>\n",
       "      <th>Age</th>\n",
       "      <th>Education</th>\n",
       "      <th>Usage</th>\n",
       "      <th>Fitness</th>\n",
       "      <th>Income</th>\n",
       "      <th>Miles</th>\n",
       "    </tr>\n",
       "    <tr>\n",
       "      <th>Features</th>\n",
       "      <th></th>\n",
       "      <th></th>\n",
       "      <th></th>\n",
       "      <th></th>\n",
       "      <th></th>\n",
       "      <th></th>\n",
       "    </tr>\n",
       "  </thead>\n",
       "  <tbody>\n",
       "    <tr>\n",
       "      <th>Usage</th>\n",
       "      <td>0.015064</td>\n",
       "      <td>0.395155</td>\n",
       "      <td>1.000000</td>\n",
       "      <td>0.668606</td>\n",
       "      <td>0.519537</td>\n",
       "      <td>0.759130</td>\n",
       "    </tr>\n",
       "    <tr>\n",
       "      <th>Fitness</th>\n",
       "      <td>0.061105</td>\n",
       "      <td>0.410581</td>\n",
       "      <td>0.668606</td>\n",
       "      <td>1.000000</td>\n",
       "      <td>0.535005</td>\n",
       "      <td>0.785702</td>\n",
       "    </tr>\n",
       "    <tr>\n",
       "      <th>Miles</th>\n",
       "      <td>0.036618</td>\n",
       "      <td>0.307284</td>\n",
       "      <td>0.759130</td>\n",
       "      <td>0.785702</td>\n",
       "      <td>0.543473</td>\n",
       "      <td>1.000000</td>\n",
       "    </tr>\n",
       "  </tbody>\n",
       "</table>\n",
       "</div>"
      ],
      "text/plain": [
       "Features       Age  Education     Usage   Fitness    Income     Miles\n",
       "Features                                                             \n",
       "Usage     0.015064   0.395155  1.000000  0.668606  0.519537  0.759130\n",
       "Fitness   0.061105   0.410581  0.668606  1.000000  0.535005  0.785702\n",
       "Miles     0.036618   0.307284  0.759130  0.785702  0.543473  1.000000"
      ]
     },
     "execution_count": 50,
     "metadata": {},
     "output_type": "execute_result"
    }
   ],
   "source": [
    "cardio.corr()[ (abs(cardio.corr()['Usage'])>0.7) | (abs(cardio.corr()['Fitness'])>0.7)] # selecting abs(corr()) greater than 0.7"
   ]
  },
  {
   "cell_type": "code",
   "execution_count": 51,
   "id": "aa55bca6",
   "metadata": {},
   "outputs": [],
   "source": [
    "## strong correlation of the primary elements being ever further corroborated with cardio.corr() above 0.7 for usage & fitness"
   ]
  },
  {
   "cell_type": "code",
   "execution_count": 52,
   "id": "e9b514d8",
   "metadata": {},
   "outputs": [
    {
     "data": {
      "text/plain": [
       "<AxesSubplot:xlabel='Features', ylabel='Features'>"
      ]
     },
     "execution_count": 52,
     "metadata": {},
     "output_type": "execute_result"
    },
    {
     "data": {
      "image/png": "[encoded data removed]",
      "text/plain": [
       "<Figure size 432x288 with 2 Axes>"
      ]
     },
     "metadata": {
      "needs_background": "light"
     },
     "output_type": "display_data"
    }
   ],
   "source": [
    "cardio_c1 = cardio.corr()[ (abs(cardio.corr()['Usage'])>0.7) | (abs(cardio.corr()['Fitness'])>0.7)] # selecting abs(corr()) greater than 0.7\n",
    "sns.heatmap(cardio_c1, vmin=0, vmax=1, annot=True, cmap='Spectral')"
   ]
  },
  {
   "cell_type": "code",
   "execution_count": 53,
   "id": "48d0075e",
   "metadata": {},
   "outputs": [],
   "source": [
    "## verified that elements like age, education, income really didn't have strong correlation with fitness or usage"
   ]
  },
  {
   "cell_type": "code",
   "execution_count": 54,
   "id": "1b279bd1",
   "metadata": {},
   "outputs": [
    {
     "data": {
      "text/html": [
       "<div>\n",
       "<style scoped>\n",
       "    .dataframe tbody tr th:only-of-type {\n",
       "        vertical-align: middle;\n",
       "    }\n",
       "\n",
       "    .dataframe tbody tr th {\n",
       "        vertical-align: top;\n",
       "    }\n",
       "\n",
       "    .dataframe thead th {\n",
       "        text-align: right;\n",
       "    }\n",
       "</style>\n",
       "<table border=\"1\" class=\"dataframe\">\n",
       "  <thead>\n",
       "    <tr style=\"text-align: right;\">\n",
       "      <th>Features</th>\n",
       "      <th>Age</th>\n",
       "      <th>Education</th>\n",
       "      <th>Usage</th>\n",
       "      <th>Fitness</th>\n",
       "      <th>Income</th>\n",
       "      <th>Miles</th>\n",
       "    </tr>\n",
       "    <tr>\n",
       "      <th>Features</th>\n",
       "      <th></th>\n",
       "      <th></th>\n",
       "      <th></th>\n",
       "      <th></th>\n",
       "      <th></th>\n",
       "      <th></th>\n",
       "    </tr>\n",
       "  </thead>\n",
       "  <tbody>\n",
       "    <tr>\n",
       "      <th>Age</th>\n",
       "      <td>1.000000</td>\n",
       "      <td>0.280496</td>\n",
       "      <td>0.015064</td>\n",
       "      <td>0.061105</td>\n",
       "      <td>0.513414</td>\n",
       "      <td>0.036618</td>\n",
       "    </tr>\n",
       "    <tr>\n",
       "      <th>Education</th>\n",
       "      <td>0.280496</td>\n",
       "      <td>1.000000</td>\n",
       "      <td>0.395155</td>\n",
       "      <td>0.410581</td>\n",
       "      <td>0.625827</td>\n",
       "      <td>0.307284</td>\n",
       "    </tr>\n",
       "    <tr>\n",
       "      <th>Usage</th>\n",
       "      <td>0.015064</td>\n",
       "      <td>0.395155</td>\n",
       "      <td>1.000000</td>\n",
       "      <td>0.668606</td>\n",
       "      <td>0.519537</td>\n",
       "      <td>0.759130</td>\n",
       "    </tr>\n",
       "    <tr>\n",
       "      <th>Fitness</th>\n",
       "      <td>0.061105</td>\n",
       "      <td>0.410581</td>\n",
       "      <td>0.668606</td>\n",
       "      <td>1.000000</td>\n",
       "      <td>0.535005</td>\n",
       "      <td>0.785702</td>\n",
       "    </tr>\n",
       "    <tr>\n",
       "      <th>Income</th>\n",
       "      <td>0.513414</td>\n",
       "      <td>0.625827</td>\n",
       "      <td>0.519537</td>\n",
       "      <td>0.535005</td>\n",
       "      <td>1.000000</td>\n",
       "      <td>0.543473</td>\n",
       "    </tr>\n",
       "    <tr>\n",
       "      <th>Miles</th>\n",
       "      <td>0.036618</td>\n",
       "      <td>0.307284</td>\n",
       "      <td>0.759130</td>\n",
       "      <td>0.785702</td>\n",
       "      <td>0.543473</td>\n",
       "      <td>1.000000</td>\n",
       "    </tr>\n",
       "  </tbody>\n",
       "</table>\n",
       "</div>"
      ],
      "text/plain": [
       "Features        Age  Education     Usage   Fitness    Income     Miles\n",
       "Features                                                              \n",
       "Age        1.000000   0.280496  0.015064  0.061105  0.513414  0.036618\n",
       "Education  0.280496   1.000000  0.395155  0.410581  0.625827  0.307284\n",
       "Usage      0.015064   0.395155  1.000000  0.668606  0.519537  0.759130\n",
       "Fitness    0.061105   0.410581  0.668606  1.000000  0.535005  0.785702\n",
       "Income     0.513414   0.625827  0.519537  0.535005  1.000000  0.543473\n",
       "Miles      0.036618   0.307284  0.759130  0.785702  0.543473  1.000000"
      ]
     },
     "execution_count": 54,
     "metadata": {},
     "output_type": "execute_result"
    }
   ],
   "source": [
    "cardio.corr().T"
   ]
  },
  {
   "cell_type": "code",
   "execution_count": 55,
   "id": "5b7c8885",
   "metadata": {},
   "outputs": [
    {
     "data": {
      "image/png": "[encoded data removed]",
      "text/plain": [
       "<Figure size 432x288 with 1 Axes>"
      ]
     },
     "metadata": {
      "needs_background": "light"
     },
     "output_type": "display_data"
    }
   ],
   "source": [
    "sns.heatmap(data=cardio.corr().T, linewidth=1, annot=True, cbar=False, fmt='.2f');"
   ]
  },
  {
   "cell_type": "code",
   "execution_count": 56,
   "id": "fd87a3f7",
   "metadata": {},
   "outputs": [],
   "source": [
    "## finally compiled the key collection of data based on analysis of all prior plots and groupby\n",
    "## so can now provide my recommendations\n",
    "\n",
    "##  usage, fitness, miles and age"
   ]
  },
  {
   "cell_type": "code",
   "execution_count": 57,
   "id": "99ddcbfb",
   "metadata": {},
   "outputs": [
    {
     "data": {
      "text/html": [
       "<div>\n",
       "<style scoped>\n",
       "    .dataframe tbody tr th:only-of-type {\n",
       "        vertical-align: middle;\n",
       "    }\n",
       "\n",
       "    .dataframe tbody tr th {\n",
       "        vertical-align: top;\n",
       "    }\n",
       "\n",
       "    .dataframe thead tr th {\n",
       "        text-align: left;\n",
       "    }\n",
       "\n",
       "    .dataframe thead tr:last-of-type th {\n",
       "        text-align: right;\n",
       "    }\n",
       "</style>\n",
       "<table border=\"1\" class=\"dataframe\">\n",
       "  <thead>\n",
       "    <tr>\n",
       "      <th>Features</th>\n",
       "      <th colspan=\"4\" halign=\"left\">Usage</th>\n",
       "      <th colspan=\"4\" halign=\"left\">Fitness</th>\n",
       "      <th colspan=\"4\" halign=\"left\">Miles</th>\n",
       "      <th colspan=\"2\" halign=\"left\">Age</th>\n",
       "    </tr>\n",
       "    <tr>\n",
       "      <th></th>\n",
       "      <th colspan=\"2\" halign=\"left\">sum</th>\n",
       "      <th colspan=\"2\" halign=\"left\">mean</th>\n",
       "      <th colspan=\"2\" halign=\"left\">sum</th>\n",
       "      <th colspan=\"2\" halign=\"left\">mean</th>\n",
       "      <th colspan=\"2\" halign=\"left\">sum</th>\n",
       "      <th colspan=\"2\" halign=\"left\">mean</th>\n",
       "      <th colspan=\"2\" halign=\"left\">median</th>\n",
       "    </tr>\n",
       "    <tr>\n",
       "      <th>Gender</th>\n",
       "      <th>Female</th>\n",
       "      <th>Male</th>\n",
       "      <th>Female</th>\n",
       "      <th>Male</th>\n",
       "      <th>Female</th>\n",
       "      <th>Male</th>\n",
       "      <th>Female</th>\n",
       "      <th>Male</th>\n",
       "      <th>Female</th>\n",
       "      <th>Male</th>\n",
       "      <th>Female</th>\n",
       "      <th>Male</th>\n",
       "      <th>Female</th>\n",
       "      <th>Male</th>\n",
       "    </tr>\n",
       "    <tr>\n",
       "      <th>Product</th>\n",
       "      <th></th>\n",
       "      <th></th>\n",
       "      <th></th>\n",
       "      <th></th>\n",
       "      <th></th>\n",
       "      <th></th>\n",
       "      <th></th>\n",
       "      <th></th>\n",
       "      <th></th>\n",
       "      <th></th>\n",
       "      <th></th>\n",
       "      <th></th>\n",
       "      <th></th>\n",
       "      <th></th>\n",
       "    </tr>\n",
       "  </thead>\n",
       "  <tbody>\n",
       "    <tr>\n",
       "      <th>TM195</th>\n",
       "      <td>116</td>\n",
       "      <td>131</td>\n",
       "      <td>2.900000</td>\n",
       "      <td>3.275000</td>\n",
       "      <td>115</td>\n",
       "      <td>122</td>\n",
       "      <td>2.875000</td>\n",
       "      <td>3.050000</td>\n",
       "      <td>3048</td>\n",
       "      <td>3575</td>\n",
       "      <td>76.200000</td>\n",
       "      <td>89.375000</td>\n",
       "      <td>26.5</td>\n",
       "      <td>26.0</td>\n",
       "    </tr>\n",
       "    <tr>\n",
       "      <th>TM498</th>\n",
       "      <td>91</td>\n",
       "      <td>93</td>\n",
       "      <td>3.137931</td>\n",
       "      <td>3.000000</td>\n",
       "      <td>83</td>\n",
       "      <td>91</td>\n",
       "      <td>2.862069</td>\n",
       "      <td>2.935484</td>\n",
       "      <td>2533</td>\n",
       "      <td>2743</td>\n",
       "      <td>87.344828</td>\n",
       "      <td>88.483871</td>\n",
       "      <td>29.0</td>\n",
       "      <td>25.0</td>\n",
       "    </tr>\n",
       "    <tr>\n",
       "      <th>TM798</th>\n",
       "      <td>35</td>\n",
       "      <td>156</td>\n",
       "      <td>5.000000</td>\n",
       "      <td>4.727273</td>\n",
       "      <td>32</td>\n",
       "      <td>153</td>\n",
       "      <td>4.571429</td>\n",
       "      <td>4.636364</td>\n",
       "      <td>1260</td>\n",
       "      <td>5416</td>\n",
       "      <td>180.000000</td>\n",
       "      <td>164.121212</td>\n",
       "      <td>26.0</td>\n",
       "      <td>27.0</td>\n",
       "    </tr>\n",
       "  </tbody>\n",
       "</table>\n",
       "</div>"
      ],
      "text/plain": [
       "Features  Usage                          Fitness                           \\\n",
       "            sum           mean               sum           mean             \n",
       "Gender   Female Male    Female      Male  Female Male    Female      Male   \n",
       "Product                                                                     \n",
       "TM195       116  131  2.900000  3.275000     115  122  2.875000  3.050000   \n",
       "TM498        91   93  3.137931  3.000000      83   91  2.862069  2.935484   \n",
       "TM798        35  156  5.000000  4.727273      32  153  4.571429  4.636364   \n",
       "\n",
       "Features  Miles                                  Age        \n",
       "            sum              mean             median        \n",
       "Gender   Female  Male      Female        Male Female  Male  \n",
       "Product                                                     \n",
       "TM195      3048  3575   76.200000   89.375000   26.5  26.0  \n",
       "TM498      2533  2743   87.344828   88.483871   29.0  25.0  \n",
       "TM798      1260  5416  180.000000  164.121212   26.0  27.0  "
      ]
     },
     "execution_count": 57,
     "metadata": {},
     "output_type": "execute_result"
    }
   ],
   "source": [
    "cardio.groupby(['Product', 'Gender']).agg({'Usage':['sum','mean'], 'Fitness':['sum','mean'], 'Miles':['sum','mean'], 'Age':'median'}).unstack()"
   ]
  },
  {
   "cell_type": "code",
   "execution_count": 58,
   "id": "b2c4e5f6",
   "metadata": {},
   "outputs": [
    {
     "data": {
      "text/html": [
       "<div>\n",
       "<style scoped>\n",
       "    .dataframe tbody tr th:only-of-type {\n",
       "        vertical-align: middle;\n",
       "    }\n",
       "\n",
       "    .dataframe tbody tr th {\n",
       "        vertical-align: top;\n",
       "    }\n",
       "\n",
       "    .dataframe thead tr th {\n",
       "        text-align: left;\n",
       "    }\n",
       "\n",
       "    .dataframe thead tr:last-of-type th {\n",
       "        text-align: right;\n",
       "    }\n",
       "</style>\n",
       "<table border=\"1\" class=\"dataframe\">\n",
       "  <thead>\n",
       "    <tr>\n",
       "      <th>Features</th>\n",
       "      <th colspan=\"4\" halign=\"left\">Usage</th>\n",
       "      <th colspan=\"4\" halign=\"left\">Fitness</th>\n",
       "      <th colspan=\"4\" halign=\"left\">Miles</th>\n",
       "      <th colspan=\"2\" halign=\"left\">Age</th>\n",
       "    </tr>\n",
       "    <tr>\n",
       "      <th></th>\n",
       "      <th colspan=\"2\" halign=\"left\">sum</th>\n",
       "      <th colspan=\"2\" halign=\"left\">mean</th>\n",
       "      <th colspan=\"2\" halign=\"left\">sum</th>\n",
       "      <th colspan=\"2\" halign=\"left\">mean</th>\n",
       "      <th colspan=\"2\" halign=\"left\">sum</th>\n",
       "      <th colspan=\"2\" halign=\"left\">mean</th>\n",
       "      <th colspan=\"2\" halign=\"left\">median</th>\n",
       "    </tr>\n",
       "    <tr>\n",
       "      <th>Gender</th>\n",
       "      <th>Female</th>\n",
       "      <th>Male</th>\n",
       "      <th>Female</th>\n",
       "      <th>Male</th>\n",
       "      <th>Female</th>\n",
       "      <th>Male</th>\n",
       "      <th>Female</th>\n",
       "      <th>Male</th>\n",
       "      <th>Female</th>\n",
       "      <th>Male</th>\n",
       "      <th>Female</th>\n",
       "      <th>Male</th>\n",
       "      <th>Female</th>\n",
       "      <th>Male</th>\n",
       "    </tr>\n",
       "    <tr>\n",
       "      <th>Product</th>\n",
       "      <th></th>\n",
       "      <th></th>\n",
       "      <th></th>\n",
       "      <th></th>\n",
       "      <th></th>\n",
       "      <th></th>\n",
       "      <th></th>\n",
       "      <th></th>\n",
       "      <th></th>\n",
       "      <th></th>\n",
       "      <th></th>\n",
       "      <th></th>\n",
       "      <th></th>\n",
       "      <th></th>\n",
       "    </tr>\n",
       "  </thead>\n",
       "  <tbody>\n",
       "    <tr>\n",
       "      <th>TM195</th>\n",
       "      <td>116</td>\n",
       "      <td>131</td>\n",
       "      <td>2.90</td>\n",
       "      <td>3.28</td>\n",
       "      <td>115</td>\n",
       "      <td>122</td>\n",
       "      <td>2.88</td>\n",
       "      <td>3.05</td>\n",
       "      <td>3048</td>\n",
       "      <td>3575</td>\n",
       "      <td>76.20</td>\n",
       "      <td>89.38</td>\n",
       "      <td>26.5</td>\n",
       "      <td>26.0</td>\n",
       "    </tr>\n",
       "    <tr>\n",
       "      <th>TM498</th>\n",
       "      <td>91</td>\n",
       "      <td>93</td>\n",
       "      <td>3.14</td>\n",
       "      <td>3.00</td>\n",
       "      <td>83</td>\n",
       "      <td>91</td>\n",
       "      <td>2.86</td>\n",
       "      <td>2.94</td>\n",
       "      <td>2533</td>\n",
       "      <td>2743</td>\n",
       "      <td>87.34</td>\n",
       "      <td>88.48</td>\n",
       "      <td>29.0</td>\n",
       "      <td>25.0</td>\n",
       "    </tr>\n",
       "    <tr>\n",
       "      <th>TM798</th>\n",
       "      <td>35</td>\n",
       "      <td>156</td>\n",
       "      <td>5.00</td>\n",
       "      <td>4.73</td>\n",
       "      <td>32</td>\n",
       "      <td>153</td>\n",
       "      <td>4.57</td>\n",
       "      <td>4.64</td>\n",
       "      <td>1260</td>\n",
       "      <td>5416</td>\n",
       "      <td>180.00</td>\n",
       "      <td>164.12</td>\n",
       "      <td>26.0</td>\n",
       "      <td>27.0</td>\n",
       "    </tr>\n",
       "  </tbody>\n",
       "</table>\n",
       "</div>"
      ],
      "text/plain": [
       "Features  Usage                   Fitness                    Miles        \\\n",
       "            sum        mean           sum        mean          sum         \n",
       "Gender   Female Male Female  Male  Female Male Female  Male Female  Male   \n",
       "Product                                                                    \n",
       "TM195       116  131   2.90  3.28     115  122   2.88  3.05   3048  3575   \n",
       "TM498        91   93   3.14  3.00      83   91   2.86  2.94   2533  2743   \n",
       "TM798        35  156   5.00  4.73      32  153   4.57  4.64   1260  5416   \n",
       "\n",
       "Features                    Age        \n",
       "            mean         median        \n",
       "Gender    Female    Male Female  Male  \n",
       "Product                                \n",
       "TM195      76.20   89.38   26.5  26.0  \n",
       "TM498      87.34   88.48   29.0  25.0  \n",
       "TM798     180.00  164.12   26.0  27.0  "
      ]
     },
     "execution_count": 58,
     "metadata": {},
     "output_type": "execute_result"
    }
   ],
   "source": [
    "cardio.groupby(['Product', 'Gender']).agg({'Usage':['sum','mean'], 'Fitness':['sum','mean'], 'Miles':['sum','mean'], 'Age':'median'}).unstack().round(2)"
   ]
  },
  {
   "cell_type": "markdown",
   "id": "76dd6934",
   "metadata": {},
   "source": [
    "#\n",
    "After reviewing the previous graphs and the groupby results, was able to make\n",
    "recommendations about each of the Cardio Good Fitness Products that are being offered.\n",
    "\n",
    "Cardio Good Fitness Project\n",
    "Recommendations:\n",
    "\n",
    "1) The TM195 Product\n",
    "This product had the most usage*, was responsible for providing the most fitness and it was close to having the most miles accumulated by customers using this product. The last feature of importance is this product was theStrongest in Usage, Fitness & Miles of all categories overall.\n",
    "\n",
    "Recommendation: The TM195 is a real winner, and you should keep using and improving the product it's a real good one!\n",
    "\n",
    "* Product  Usage\t\n",
    "  TM195\t= 247  \n",
    "  TM798\t= 191  \n",
    "  TM498\t= 184  \n",
    "  \n",
    "2) The TM798 Product\n",
    "This product has the most Miles* accumulated by the Customers, was middle of the ground for Usage & Fitness overall, however this product was really enjoyed by Males in terms of Usage, Fitness and Miles. So this is an excellent product especially for Males. People who enjoyed this product had significantly higher income levels than the other fitness Products\n",
    "\n",
    "Recommendation: See if there is a way to make this product more popular with Females, but a good product!\n",
    "\n",
    "* Product Miles  \n",
    "  TM798\t= 6676    \n",
    "  TM195\t= 6623    \n",
    "  TM498\t= 5276    \n",
    "  \n",
    "3) The TM498 Product\n",
    "This product is basically the least performing Fitness in fitness and miles but fairly good for females. However nothing really stands out as being particularly great about this product.\n",
    "\n",
    "In fact, its the lowest ranking fitness product overall by Usage, Miles & Fitness. It doesn't really seem to be any more attractive to Females than it is to Males.\n",
    "\n",
    "Recommendation: If you were thinking of a poor performing product and redesigning it/or creating a new product, this might be where you’d start. Another thing you might consider is to see if there is a way to modify the TM195 so that you could push many of the customers from TM498 into that superior TM195 product.\n",
    "\n",
    "* Product\tFitness  \n",
    "  TM195\t= 237  \n",
    "  TM798\t= 185  \n",
    "  TM498\t= 174  "
   ]
  }
 ],
 "metadata": {
  "kernelspec": {
   "display_name": "Python 3 (ipykernel)",
   "language": "python",
   "name": "python3"
  },
  "language_info": {
   "codemirror_mode": {
    "name": "ipython",
    "version": 3
   },
   "file_extension": ".py",
   "mimetype": "text/x-python",
   "name": "python",
   "nbconvert_exporter": "python",
   "pygments_lexer": "ipython3",
   "version": "3.9.7"
  }
 },
 "nbformat": 4,
 "nbformat_minor": 5
}
